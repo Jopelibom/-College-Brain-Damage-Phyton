{
 "cells": [
  {
   "cell_type": "code",
   "execution_count": 3,
   "id": "548a19bf",
   "metadata": {},
   "outputs": [
    {
     "name": "stdout",
     "output_type": "stream",
     "text": [
      "Digite um numero inteiro-8\n",
      "Negativo\n"
     ]
    }
   ],
   "source": [
    "numero = int(input(\"Digite um numero inteiro\"))\n",
    "if numero > 0:\n",
    "    print(\"Positivo\")\n",
    "else:\n",
    "    print(\"Negativo\")"
   ]
  },
  {
   "cell_type": "code",
   "execution_count": 8,
   "id": "d1eb61ed",
   "metadata": {},
   "outputs": [
    {
     "name": "stdout",
     "output_type": "stream",
     "text": [
      "Digite um numero inteiro: 9\n",
      "Positivo\n",
      "Digite um numero inteiro: -9\n",
      "Negativo\n",
      "Digite um numero inteiro: 8\n",
      "Positivo\n"
     ]
    }
   ],
   "source": [
    "def testePositivo(n):\n",
    "    if n > 0:\n",
    "        print(\"Positivo\")\n",
    "    else:\n",
    "        print(\"Negativo\")\n",
    "\n",
    "for n in range(3):\n",
    "    numero = int(input(\"Digite um numero inteiro: \"))\n",
    "    testePositivo(numero)"
   ]
  },
  {
   "cell_type": "code",
   "execution_count": 1,
   "id": "0c176bee",
   "metadata": {},
   "outputs": [
    {
     "name": "stdout",
     "output_type": "stream",
     "text": [
      "Login: we\n",
      "Senha: we\n",
      "Nome ou senha inválido.\n",
      "Login: we\n",
      "Senha: we\n",
      "Nome ou senha inválido.\n",
      "Login: ew\n",
      "Senha: we\n",
      "Acesso Liberado\n"
     ]
    }
   ],
   "source": [
    "nome = input(\"Login: \")\n",
    "senha = input(\"Senha: \")\n",
    "\n",
    "while (nome == senha ):\n",
    "    print(\"Nome ou senha inválido.\")\n",
    "    nome = input(\"Login: \")\n",
    "    senha = input(\"Senha: \")\n",
    "\n",
    "print(\"Acesso Liberado\")\n"
   ]
  },
  {
   "cell_type": "code",
   "execution_count": 5,
   "id": "807a2fba",
   "metadata": {},
   "outputs": [
    {
     "name": "stdout",
     "output_type": "stream",
     "text": [
      "Difite F para feminino e M para masculino m\n",
      "Masculino\n"
     ]
    }
   ],
   "source": [
    "letra = input(\"Difite F para feminino e M para masculino \")\n",
    "if letra.upper() == \"F\":\n",
    "    print(\"Feminino\")\n",
    "elif letra.upper() == \"M\":\n",
    "    print(\"Masculino\")\n",
    "else:\n",
    "    print(\"Não especificado.\")"
   ]
  },
  {
   "cell_type": "code",
   "execution_count": 9,
   "id": "e8179558",
   "metadata": {},
   "outputs": [
    {
     "name": "stdout",
     "output_type": "stream",
     "text": [
      "Digite o primeiro valor: 23\n",
      "Digite o segundo  valor: 65\n",
      "Digite o terceiro valor: 24\n",
      "Maior:  65\n"
     ]
    }
   ],
   "source": [
    "numero1 = int(input(\"Digite o primeiro valor: \"))\n",
    "numero2 = int(input(\"Digite o segundo  valor: \"))\n",
    "numero3 = int(input(\"Digite o terceiro valor: \"))\n",
    "\n",
    "if numero1 > numero2 and numero1 > numero3:\n",
    "    print(\" É o maior: \", numero1)\n",
    "elif numero2 > numero1 and numero2 > numero3:\n",
    "    print(\"É o maior: \", numero2)\n",
    "else:\n",
    "    print(\"É O maior: \", numero3)    "
   ]
  },
  {
   "cell_type": "code",
   "execution_count": 13,
   "id": "6715e56c",
   "metadata": {},
   "outputs": [
    {
     "name": "stdout",
     "output_type": "stream",
     "text": [
      "Informe uma nota entre zero e dez.10\n"
     ]
    }
   ],
   "source": [
    "nota = int(input(\"Informe uma nota entre zero e dez.\"))\n",
    "\n",
    "while nota < 0 or nota > 10:\n",
    "    print(\"Nota Inválida\")\n",
    "    nota = int(input(\"Informe um valor de  0 a 10\"))"
   ]
  },
  {
   "cell_type": "code",
   "execution_count": null,
   "id": "c91ef81c",
   "metadata": {},
   "outputs": [],
   "source": [
    "for n in range(1,50):\n",
    "    if n%2  != 0:\n",
    "        print(n)"
   ]
  },
  {
   "cell_type": "code",
   "execution_count": 5,
   "id": "2c0a270c",
   "metadata": {},
   "outputs": [
    {
     "name": "stdout",
     "output_type": "stream",
     "text": [
      "Digite a quantidades de produtos: 1\n",
      "Qual o valor do produto: 100\n",
      "Desconto? S/NS\n",
      "Qual a senha? 222\n",
      "O valor total das compras são:  100.0\n"
     ]
    }
   ],
   "source": [
    "def des(VOC):\n",
    "    porc = int(input(\"Porcentagem de desconto: \"))\n",
    "    NVC = VOC - (VOC*porc/100)\n",
    "    return NVC\n",
    "\n",
    "def Valida(password):\n",
    "    if password == \"123\":\n",
    "        return True\n",
    "    else:\n",
    "        return False\n",
    "    \n",
    "\n",
    "#---------------------------Progama Principal--------------------------- \n",
    "NP =int(input(\"Digite a quantidades de produtos: \"))\n",
    "\n",
    "total = 0\n",
    "for n in range (0,NP):\n",
    "    VP = float(input(\"Qual o valor do produto: \"))\n",
    "    total = total + VP\n",
    "\n",
    "DP = input(\"Desconto? S/N\")\n",
    "if DP.upper()== \"S\":\n",
    "    senha = input(\"Qual a senha? \")\n",
    "    if(Valida(senha)== True):\n",
    "        total = des(total)\n",
    "    \n",
    "\n",
    "print(\"O valor total das compras são: \",total)\n",
    "\n"
   ]
  },
  {
   "cell_type": "code",
   "execution_count": null,
   "id": "ffcde902",
   "metadata": {},
   "outputs": [],
   "source": []
  },
  {
   "cell_type": "code",
   "execution_count": null,
   "id": "b63ea1b8",
   "metadata": {},
   "outputs": [],
   "source": []
  }
 ],
 "metadata": {
  "kernelspec": {
   "display_name": "Python 3",
   "language": "python",
   "name": "python3"
  }
 },
 "nbformat": 4,
 "nbformat_minor": 5
}
