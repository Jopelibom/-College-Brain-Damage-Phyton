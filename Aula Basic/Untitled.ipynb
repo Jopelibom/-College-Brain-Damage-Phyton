{
 "cells": [
  {
   "cell_type": "code",
   "execution_count": 3,
   "id": "d0b33433-74d5-4941-8963-847c1539ffe9",
   "metadata": {},
   "outputs": [
    {
     "data": {
      "text/plain": [
       "['maça', 'banana', 'abacaxi']"
      ]
     },
     "execution_count": 3,
     "metadata": {},
     "output_type": "execute_result"
    }
   ],
   "source": [
    "nomes_frutas = [\"maça\",\"banana\",\"abacaxi\"]\n",
    "nomes_frutas"
   ]
  },
  {
   "cell_type": "code",
   "execution_count": 4,
   "id": "5982353c-aca5-467c-8b8d-cb2b8efd630a",
   "metadata": {},
   "outputs": [
    {
     "data": {
      "text/plain": [
       "[23, 3, 1, 9]"
      ]
     },
     "execution_count": 4,
     "metadata": {},
     "output_type": "execute_result"
    }
   ],
   "source": [
    "numeros = [23,3,1,9]\n",
    "numeros"
   ]
  },
  {
   "cell_type": "code",
   "execution_count": 5,
   "id": "7bb99527-42d5-4788-ab4c-832fea9760cd",
   "metadata": {},
   "outputs": [
    {
     "data": {
      "text/plain": [
       "[10, 8.0, 'spam', 0, 'gfdg']"
      ]
     },
     "execution_count": 5,
     "metadata": {},
     "output_type": "execute_result"
    }
   ],
   "source": [
    "mixed = [10,8.0,\"spam\",0,\"gfdg\"]\n",
    "mixed"
   ]
  },
  {
   "cell_type": "code",
   "execution_count": 6,
   "id": "9c99d1a0-c71e-46a2-8849-c761ae733680",
   "metadata": {},
   "outputs": [
    {
     "data": {
      "text/plain": [
       "[]"
      ]
     },
     "execution_count": 6,
     "metadata": {},
     "output_type": "execute_result"
    }
   ],
   "source": [
    "vazia = []\n",
    "vazia"
   ]
  },
  {
   "cell_type": "code",
   "execution_count": 7,
   "id": "a4a321e5-db2b-4674-9ff0-5306da01abb8",
   "metadata": {},
   "outputs": [
    {
     "data": {
      "text/plain": [
       "[1, 3, 4]"
      ]
     },
     "execution_count": 7,
     "metadata": {},
     "output_type": "execute_result"
    }
   ],
   "source": [
    "vazia.append(1)\n",
    "vazia.append(3)\n",
    "vazia.append(4)\n",
    "vazia"
   ]
  },
  {
   "cell_type": "code",
   "execution_count": 8,
   "id": "ee2bc444-825b-415b-b2a1-6495e4fed340",
   "metadata": {},
   "outputs": [
    {
     "data": {
      "text/plain": [
       "[100, 200, 300, 400, 500]"
      ]
     },
     "execution_count": 8,
     "metadata": {},
     "output_type": "execute_result"
    }
   ],
   "source": [
    "lista = [100,200,300,400,500]\n",
    "lista"
   ]
  },
  {
   "cell_type": "code",
   "execution_count": 9,
   "id": "2254bcbd-ee8c-400e-ad3b-97f072ee965e",
   "metadata": {},
   "outputs": [
    {
     "data": {
      "text/plain": [
       "400"
      ]
     },
     "execution_count": 9,
     "metadata": {},
     "output_type": "execute_result"
    }
   ],
   "source": [
    "lista[3]"
   ]
  },
  {
   "cell_type": "code",
   "execution_count": 10,
   "id": "60faa1f0-6b12-4cdf-8d88-daf2358cd20b",
   "metadata": {},
   "outputs": [
    {
     "data": {
      "text/plain": [
       "[1, '2.0', 3.0]"
      ]
     },
     "execution_count": 10,
     "metadata": {},
     "output_type": "execute_result"
    }
   ],
   "source": [
    "lista = [1,'2.0', 3.0]\n",
    "lista"
   ]
  },
  {
   "cell_type": "code",
   "execution_count": 11,
   "id": "07ff7af5-6c4a-4630-884a-e6fbf3264dd1",
   "metadata": {},
   "outputs": [
    {
     "data": {
      "text/plain": [
       "[1, 'dois', 3.0]"
      ]
     },
     "execution_count": 11,
     "metadata": {},
     "output_type": "execute_result"
    }
   ],
   "source": [
    "lista[1] = \"dois\"\n",
    "lista"
   ]
  },
  {
   "cell_type": "code",
   "execution_count": 15,
   "id": "4ce1e016-7284-4b3f-8e10-3696c7991fc0",
   "metadata": {},
   "outputs": [
    {
     "data": {
      "text/plain": [
       "[1, 3.0]"
      ]
     },
     "execution_count": 15,
     "metadata": {},
     "output_type": "execute_result"
    }
   ],
   "source": [
    "del(lista[1])\n",
    "lista"
   ]
  },
  {
   "cell_type": "code",
   "execution_count": 12,
   "id": "9c2350ba-22ae-413f-b4f9-7e6d3f3467d0",
   "metadata": {},
   "outputs": [
    {
     "data": {
      "text/plain": [
       "[100, 200, 300, 400, 500, 600, 700]"
      ]
     },
     "execution_count": 12,
     "metadata": {},
     "output_type": "execute_result"
    }
   ],
   "source": [
    "lista1 = [100,200,300,400,500]\n",
    "lista2 = [600,700]\n",
    "lista1 + lista2"
   ]
  },
  {
   "cell_type": "code",
   "execution_count": 13,
   "id": "f8fe9298-60f6-428c-a80e-286aedcd34a1",
   "metadata": {},
   "outputs": [
    {
     "data": {
      "text/plain": [
       "[100, 200, 300, 400, 500, 600, 700]"
      ]
     },
     "execution_count": 13,
     "metadata": {},
     "output_type": "execute_result"
    }
   ],
   "source": [
    "lista1.extend(lista2)\n",
    "lista1"
   ]
  },
  {
   "cell_type": "code",
   "execution_count": 16,
   "id": "d21b41ac-09f4-488f-bfbe-8df9ac1bf9f3",
   "metadata": {},
   "outputs": [
    {
     "data": {
      "text/plain": [
       "[600, 700, 600, 700, 600, 700]"
      ]
     },
     "execution_count": 16,
     "metadata": {},
     "output_type": "execute_result"
    }
   ],
   "source": [
    "lista2*3"
   ]
  },
  {
   "cell_type": "code",
   "execution_count": 18,
   "id": "7f2c5dfd-5380-409a-920f-9e5f56c82eda",
   "metadata": {},
   "outputs": [
    {
     "data": {
      "text/plain": [
       "[200, 300, 400]"
      ]
     },
     "execution_count": 18,
     "metadata": {},
     "output_type": "execute_result"
    }
   ],
   "source": [
    "lista1[1:4]"
   ]
  },
  {
   "cell_type": "code",
   "execution_count": 31,
   "id": "8b324bad-9076-41d2-baef-30db79465886",
   "metadata": {},
   "outputs": [
    {
     "data": {
      "text/plain": [
       "[100, 200, 300, 400, 500, 600, 700]"
      ]
     },
     "execution_count": 31,
     "metadata": {},
     "output_type": "execute_result"
    }
   ],
   "source": [
    "lista1[:]"
   ]
  },
  {
   "cell_type": "code",
   "execution_count": 20,
   "id": "5d8daa77-6755-40cb-9ff5-01c3332152d7",
   "metadata": {},
   "outputs": [
    {
     "data": {
      "text/plain": [
       "[600, 700]"
      ]
     },
     "execution_count": 20,
     "metadata": {},
     "output_type": "execute_result"
    }
   ],
   "source": [
    "lista3 = lista2\n",
    "lista3"
   ]
  },
  {
   "cell_type": "code",
   "execution_count": 25,
   "id": "aa66ac14-cdeb-458a-8f14-284d7ae3f02c",
   "metadata": {},
   "outputs": [
    {
     "data": {
      "text/plain": [
       "[600, 800]"
      ]
     },
     "execution_count": 25,
     "metadata": {},
     "output_type": "execute_result"
    }
   ],
   "source": [
    "lista3[1] = 800\n",
    "lista3"
   ]
  },
  {
   "cell_type": "code",
   "execution_count": 26,
   "id": "b2f3633a-1547-483b-95a3-fe19dba3a837",
   "metadata": {},
   "outputs": [
    {
     "data": {
      "text/plain": [
       "[600, 800]"
      ]
     },
     "execution_count": 26,
     "metadata": {},
     "output_type": "execute_result"
    }
   ],
   "source": [
    "lista2"
   ]
  },
  {
   "cell_type": "code",
   "execution_count": 27,
   "id": "4ac9c348-dfbd-4b3b-9984-c66865fc4f10",
   "metadata": {},
   "outputs": [
    {
     "data": {
      "text/plain": [
       "[600, 700]"
      ]
     },
     "execution_count": 27,
     "metadata": {},
     "output_type": "execute_result"
    }
   ],
   "source": [
    "lista2=[600,700]\n",
    "lista2"
   ]
  },
  {
   "cell_type": "code",
   "execution_count": 28,
   "id": "34d61b22-7d7a-447a-baa5-a4d157267c36",
   "metadata": {},
   "outputs": [
    {
     "data": {
      "text/plain": [
       "[600, 700]"
      ]
     },
     "execution_count": 28,
     "metadata": {},
     "output_type": "execute_result"
    }
   ],
   "source": [
    "lista3= lista2[:]\n",
    "lista3"
   ]
  },
  {
   "cell_type": "code",
   "execution_count": 29,
   "id": "9636e604-79ab-4958-935b-afbc3a7574b5",
   "metadata": {},
   "outputs": [
    {
     "data": {
      "text/plain": [
       "[600, 800]"
      ]
     },
     "execution_count": 29,
     "metadata": {},
     "output_type": "execute_result"
    }
   ],
   "source": [
    "lista3[1]= 800\n",
    "lista3"
   ]
  },
  {
   "cell_type": "code",
   "execution_count": null,
   "id": "a03aebb8-f470-4e27-9d9d-e9b2995af7c9",
   "metadata": {},
   "outputs": [],
   "source": [
    "lista2"
   ]
  },
  {
   "cell_type": "code",
   "execution_count": 38,
   "id": "9a935505-2f10-4cc3-a574-10c21d41e24d",
   "metadata": {},
   "outputs": [],
   "source": [
    "### Fazer u, progama para preencer um \"Vetor\"\n",
    "### de tamanho 5."
   ]
  },
  {
   "cell_type": "code",
   "execution_count": 6,
   "id": "72c4e440-ccd2-4914-b0f9-304544fbca7e",
   "metadata": {},
   "outputs": [
    {
     "name": "stdin",
     "output_type": "stream",
     "text": [
      "Digite os Dados: 1\n",
      "Digite os Dados: 2\n",
      "Digite os Dados: 3\n",
      "Digite os Dados: 4\n",
      "Digite os Dados: 5\n"
     ]
    },
    {
     "data": {
      "text/plain": [
       "['1', '2', '3', '4', '5']"
      ]
     },
     "execution_count": 6,
     "metadata": {},
     "output_type": "execute_result"
    }
   ],
   "source": [
    "vetor = []\n",
    "for i in range(5):\n",
    "    aux = input(\"Digite os Dados:\")\n",
    "    vetor.append(aux)\n",
    "vetor"
   ]
  },
  {
   "cell_type": "code",
   "execution_count": null,
   "id": "b6788a4e-36d8-4e23-a1a5-6047ab64bd7c",
   "metadata": {},
   "outputs": [],
   "source": [
    "###Fazer um progama para mostrar os dados de um vetor"
   ]
  },
  {
   "cell_type": "code",
   "execution_count": 8,
   "id": "2cba532e-0c59-4f54-b028-0a8f65a17b5a",
   "metadata": {},
   "outputs": [
    {
     "name": "stdout",
     "output_type": "stream",
     "text": [
      "1\n",
      "2\n",
      "3\n",
      "4\n",
      "5\n"
     ]
    }
   ],
   "source": [
    "for i in range(5):\n",
    "    print(vetor[i],)"
   ]
  },
  {
   "cell_type": "code",
   "execution_count": 9,
   "id": "914b2f88-1265-46df-88aa-a557b3b2e065",
   "metadata": {},
   "outputs": [],
   "source": [
    "### Faça um progama para ler o valor das notas de 3 alunos\n",
    "### alunos armazenar em um \"VETOR\" \n",
    "###depois calcular a media e contar quantos alunos\n",
    "### possuem nota acima da media"
   ]
  },
  {
   "cell_type": "code",
   "execution_count": 29,
   "id": "7aea7e15-292a-4cab-9549-71270c741abf",
   "metadata": {},
   "outputs": [
    {
     "name": "stdin",
     "output_type": "stream",
     "text": [
      "Notas:  7\n",
      "Notas:  8\n",
      "Notas:  10\n",
      "Notas:  6\n",
      "Notas:  4\n",
      "Notas:  3\n",
      "Notas:  6\n",
      "Notas:  8\n",
      "Notas:  3\n",
      "Notas:  5\n"
     ]
    },
    {
     "name": "stdout",
     "output_type": "stream",
     "text": [
      "Média 2.5\n",
      "Quantidades e nota > média: 10\n"
     ]
    }
   ],
   "source": [
    "notas =[]\n",
    "for i in range(3):\n",
    "    aux = float(input(\"Notas: \"))\n",
    "    notas.append(aux)\n",
    "\n",
    "#calculo da media\n",
    "soma = 0\n",
    "for i in range(3):\n",
    "    soma = soma + notas[i]\n",
    "media = soma/3\n",
    "cont = 0\n",
    "for i in range(3):\n",
    "    if notas[i] > media:\n",
    "        cont = cont + 1\n",
    "\n",
    "print(\"Média\", media)\n",
    "print(\"Quantidades de nota > média:\", cont)"
   ]
  },
  {
   "cell_type": "code",
   "execution_count": null,
   "id": "f687f3dc-e8ba-44ff-bf7a-1d977275dc8b",
   "metadata": {},
   "outputs": [],
   "source": []
  }
 ],
 "metadata": {
  "kernelspec": {
   "display_name": "Python 3",
   "language": "python",
   "name": "python3"
  },
  "language_info": {
   "codemirror_mode": {
    "name": "ipython",
    "version": 3
   },
   "file_extension": ".py",
   "mimetype": "text/x-python",
   "name": "python",
   "nbconvert_exporter": "python",
   "pygments_lexer": "ipython3",
   "version": "3.8.8"
  }
 },
 "nbformat": 4,
 "nbformat_minor": 5
}
