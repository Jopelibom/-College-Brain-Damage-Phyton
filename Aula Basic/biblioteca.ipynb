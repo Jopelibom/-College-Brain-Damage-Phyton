{
 "cells": [
  {
   "cell_type": "markdown",
   "id": "65aaa898-17ca-4fab-acf5-6b9d01396ac3",
   "metadata": {},
   "source": [
    "# Math"
   ]
  },
  {
   "cell_type": "code",
   "execution_count": 5,
   "id": "8bfd5395-702b-41d7-af20-e0d0a00e54e5",
   "metadata": {},
   "outputs": [],
   "source": [
    "import math"
   ]
  },
  {
   "cell_type": "code",
   "execution_count": 3,
   "id": "d053a6d0-ae66-446c-841e-556786236204",
   "metadata": {},
   "outputs": [
    {
     "data": {
      "text/plain": [
       "0.6"
      ]
     },
     "execution_count": 3,
     "metadata": {},
     "output_type": "execute_result"
    }
   ],
   "source": [
    "sum([.1,.1,.1,.1,.1,.1])"
   ]
  },
  {
   "cell_type": "code",
   "execution_count": 6,
   "id": "c7ae2fcf-dab3-41d8-b7a4-27435de0f8c2",
   "metadata": {},
   "outputs": [
    {
     "name": "stdout",
     "output_type": "stream",
     "text": [
      "123\n",
      "123.5\n"
     ]
    }
   ],
   "source": [
    "valor = 123.48\n",
    "trunca = math.trunc(valor)\n",
    "print(trunca)\n",
    "print(round(valor,1))"
   ]
  },
  {
   "cell_type": "code",
   "execution_count": 9,
   "id": "f1f459c2-4e11-43d9-a799-0b1e1de329b6",
   "metadata": {},
   "outputs": [
    {
     "name": "stdout",
     "output_type": "stream",
     "text": [
      "3.0\n",
      "4.0\n"
     ]
    }
   ],
   "source": [
    "valor1 = 9\n",
    "valor2 = 16\n",
    "print(math.sqrt(valor1))\n",
    "print(math.sqrt(valor2))"
   ]
  },
  {
   "cell_type": "code",
   "execution_count": 10,
   "id": "0c7ec802-dfa5-4e83-90e2-cfe032da71f6",
   "metadata": {},
   "outputs": [
    {
     "name": "stdout",
     "output_type": "stream",
     "text": [
      "3.141592653589793\n"
     ]
    }
   ],
   "source": [
    "print(math.pi)"
   ]
  },
  {
   "cell_type": "code",
   "execution_count": 11,
   "id": "802ce653-3126-4ccf-8dc1-2e30b3e35b4c",
   "metadata": {},
   "outputs": [
    {
     "data": {
      "text/plain": [
       "3.6055512754639896"
      ]
     },
     "execution_count": 11,
     "metadata": {},
     "output_type": "execute_result"
    }
   ],
   "source": [
    "math.hypot(3,2)"
   ]
  },
  {
   "cell_type": "code",
   "execution_count": 12,
   "id": "c0f6356c-3e47-4305-8186-a9477c053492",
   "metadata": {},
   "outputs": [
    {
     "data": {
      "text/plain": [
       "9.265358966049026e-05"
      ]
     },
     "execution_count": 12,
     "metadata": {},
     "output_type": "execute_result"
    }
   ],
   "source": [
    "math.sin(3.1415)"
   ]
  },
  {
   "cell_type": "code",
   "execution_count": 13,
   "id": "48dde400-9e75-4cda-ad36-c9cd8732f00d",
   "metadata": {},
   "outputs": [
    {
     "data": {
      "text/plain": [
       "-0.9999987317275395"
      ]
     },
     "execution_count": 13,
     "metadata": {},
     "output_type": "execute_result"
    }
   ],
   "source": [
    "math.cos(3.14)"
   ]
  },
  {
   "cell_type": "markdown",
   "id": "b9d7bc62-11f7-4126-9ab4-574e2d6e2200",
   "metadata": {},
   "source": [
    "# Random"
   ]
  },
  {
   "cell_type": "code",
   "execution_count": 6,
   "id": "f0017e6c-aa84-4791-871a-6340dc7ab713",
   "metadata": {},
   "outputs": [],
   "source": [
    "import random"
   ]
  },
  {
   "cell_type": "code",
   "execution_count": 16,
   "id": "d82344a0-3275-4c6c-8851-3ddf03949114",
   "metadata": {},
   "outputs": [
    {
     "data": {
      "text/plain": [
       "0.9819224306880858"
      ]
     },
     "execution_count": 16,
     "metadata": {},
     "output_type": "execute_result"
    }
   ],
   "source": [
    "#numero aleatorio entre 0 e 1\n",
    "random.random()"
   ]
  },
  {
   "cell_type": "code",
   "execution_count": 26,
   "id": "2403b554-563a-426f-967b-e3c96cdda514",
   "metadata": {},
   "outputs": [
    {
     "data": {
      "text/plain": [
       "90"
      ]
     },
     "execution_count": 26,
     "metadata": {},
     "output_type": "execute_result"
    }
   ],
   "source": [
    "#gerar um valor entre intervalos \n",
    "random.randrange(1,181)"
   ]
  },
  {
   "cell_type": "code",
   "execution_count": 22,
   "id": "16a7e644-eb58-433b-99b8-2b3a1cf90eaf",
   "metadata": {},
   "outputs": [
    {
     "data": {
      "text/plain": [
       "18"
      ]
     },
     "execution_count": 22,
     "metadata": {},
     "output_type": "execute_result"
    }
   ],
   "source": [
    "random.randint(10,20)"
   ]
  },
  {
   "cell_type": "code",
   "execution_count": 33,
   "id": "daf6e756-3368-4252-927a-46324d00d8a9",
   "metadata": {},
   "outputs": [
    {
     "data": {
      "text/plain": [
       "10"
      ]
     },
     "execution_count": 33,
     "metadata": {},
     "output_type": "execute_result"
    }
   ],
   "source": [
    "lista = [34, 67, 10, 3, 90]\n",
    "random.choice(lista)"
   ]
  },
  {
   "cell_type": "markdown",
   "id": "01d23a1a-529e-4a6a-b3bd-14123d997886",
   "metadata": {},
   "source": [
    "# Time e Date"
   ]
  },
  {
   "cell_type": "code",
   "execution_count": 7,
   "id": "fdfeca54-117d-43a2-a4ea-3f90280dd059",
   "metadata": {},
   "outputs": [],
   "source": [
    "import time\n",
    "import datetime"
   ]
  },
  {
   "cell_type": "code",
   "execution_count": 8,
   "id": "a134d89a-86f5-47df-b03d-fe7a98e25512",
   "metadata": {},
   "outputs": [
    {
     "data": {
      "text/plain": [
       "1652878763.5649378"
      ]
     },
     "execution_count": 8,
     "metadata": {},
     "output_type": "execute_result"
    }
   ],
   "source": [
    "#tempo em segundos deste 1/1/1970\n",
    "time.time()"
   ]
  },
  {
   "cell_type": "code",
   "execution_count": 35,
   "id": "b15a36dd-7443-4165-b849-d8504d63264d",
   "metadata": {},
   "outputs": [
    {
     "name": "stdout",
     "output_type": "stream",
     "text": [
      "Horario local corrente time.struct_time(tm_year=2022, tm_mon=5, tm_mday=18, tm_hour=8, tm_min=46, tm_sec=49, tm_wday=2, tm_yday=138, tm_isdst=0)\n"
     ]
    }
   ],
   "source": [
    "localtime = time.localtime(time.time())\n",
    "print(\"Horario local corrente\", localtime)"
   ]
  },
  {
   "cell_type": "code",
   "execution_count": 37,
   "id": "f9a41496-7966-4d1e-8143-de163e1aada6",
   "metadata": {},
   "outputs": [
    {
     "name": "stdout",
     "output_type": "stream",
     "text": [
      "Horario local corrente Wed May 18 08:49:07 2022\n"
     ]
    }
   ],
   "source": [
    "localtime = time.asctime(time.localtime(time.time()))\n",
    "print(\"Horario local corrente\", localtime)"
   ]
  },
  {
   "cell_type": "code",
   "execution_count": 38,
   "id": "9cf3e93e-01f0-49c3-ac18-a24e8abd96d2",
   "metadata": {},
   "outputs": [],
   "source": [
    "from datetime import date"
   ]
  },
  {
   "cell_type": "code",
   "execution_count": 41,
   "id": "51108015-9387-4f77-a46e-e23db6969230",
   "metadata": {},
   "outputs": [
    {
     "name": "stdout",
     "output_type": "stream",
     "text": [
      "2022-05-18\n"
     ]
    }
   ],
   "source": [
    "data_atual = date.today()\n",
    "print (data_atual)\n"
   ]
  },
  {
   "cell_type": "code",
   "execution_count": 43,
   "id": "eff5699e-3019-49c1-b75e-687b9de51c08",
   "metadata": {},
   "outputs": [
    {
     "name": "stdout",
     "output_type": "stream",
     "text": [
      "18/5/2022\n"
     ]
    }
   ],
   "source": [
    "data_em_texto = '{}/{}/{}'.format(data_atual.day,data_atual.month, data_atual.year)\n",
    "print(data_em_texto)"
   ]
  },
  {
   "cell_type": "code",
   "execution_count": 9,
   "id": "be17d454-0361-4df2-86e8-1b2f4e237c91",
   "metadata": {},
   "outputs": [],
   "source": [
    "import calendar"
   ]
  },
  {
   "cell_type": "code",
   "execution_count": 46,
   "id": "7874f1ef-05eb-43ce-84d7-d1af3ec99fe7",
   "metadata": {},
   "outputs": [
    {
     "name": "stdout",
     "output_type": "stream",
     "text": [
      "      May 2022\n",
      "Mo Tu We Th Fr Sa Su\n",
      "                   1\n",
      " 2  3  4  5  6  7  8\n",
      " 9 10 11 12 13 14 15\n",
      "16 17 18 19 20 21 22\n",
      "23 24 25 26 27 28 29\n",
      "30 31\n",
      "\n"
     ]
    }
   ],
   "source": [
    "cal = calendar.month(2022,5)\n",
    "print(cal)"
   ]
  },
  {
   "cell_type": "code",
   "execution_count": 10,
   "id": "19ba708f-2c6a-40bb-9a8b-0ec86d3d4ac1",
   "metadata": {},
   "outputs": [],
   "source": [
    "import locale"
   ]
  },
  {
   "cell_type": "code",
   "execution_count": 50,
   "id": "9c744ecf-7b52-4f13-8dee-5d3fd884fd56",
   "metadata": {},
   "outputs": [
    {
     "name": "stdout",
     "output_type": "stream",
     "text": [
      "     maio 2022\n",
      "se te qu qu se sá do\n",
      "                   1\n",
      " 2  3  4  5  6  7  8\n",
      " 9 10 11 12 13 14 15\n",
      "16 17 18 19 20 21 22\n",
      "23 24 25 26 27 28 29\n",
      "30 31\n",
      "\n"
     ]
    }
   ],
   "source": [
    "locale.setlocale(locale.LC_ALL,'pt_BR')\n",
    "cal = calendar.month(2022,5)\n",
    "print(cal)"
   ]
  },
  {
   "cell_type": "markdown",
   "id": "7e308984-abb8-4f90-b413-3a992730414c",
   "metadata": {},
   "source": [
    "# Matplotlib"
   ]
  },
  {
   "cell_type": "code",
   "execution_count": 11,
   "id": "cd470397-0c61-44c2-a8c4-52241055c287",
   "metadata": {},
   "outputs": [],
   "source": [
    "import matplotlib.pyplot as plt"
   ]
  },
  {
   "cell_type": "code",
   "execution_count": 53,
   "id": "fdde5e77-f49f-4503-a56f-841757389604",
   "metadata": {},
   "outputs": [
    {
     "data": {
      "image/png": "[encoded data removed]",
      "text/plain": [
       "<Figure size 432x288 with 1 Axes>"
      ]
     },
     "metadata": {
      "needs_background": "light"
     },
     "output_type": "display_data"
    }
   ],
   "source": [
    "plt.plot([1,2,3,4])\n",
    "plt.show()"
   ]
  },
  {
   "cell_type": "code",
   "execution_count": 55,
   "id": "c0aae450-9548-4c12-b1c1-cc47854ff0bb",
   "metadata": {},
   "outputs": [
    {
     "data": {
      "text/plain": [
       "<function matplotlib.pyplot.show(close=None, block=None)>"
      ]
     },
     "execution_count": 55,
     "metadata": {},
     "output_type": "execute_result"
    },
    {
     "data": {
      "image/png": "[encoded data removed]",
      "text/plain": [
       "<Figure size 432x288 with 1 Axes>"
      ]
     },
     "metadata": {
      "needs_background": "light"
     },
     "output_type": "display_data"
    }
   ],
   "source": [
    "plt.plot([1,2,3,4],[1,4,9,16], 'ro')\n",
    "plt.show"
   ]
  },
  {
   "cell_type": "code",
   "execution_count": 57,
   "id": "c0cc5ea9-f273-4cbd-997a-2aaeace4ebb4",
   "metadata": {},
   "outputs": [
    {
     "data": {
      "image/png": "[encoded data removed]",
      "text/plain": [
       "<Figure size 432x288 with 1 Axes>"
      ]
     },
     "metadata": {
      "needs_background": "light"
     },
     "output_type": "display_data"
    }
   ],
   "source": [
    "plt.plot([1,4,9,3,0,14,5,6], linewidth=2.0)\n",
    "plt.plot([1,4,9,3,0,14,5,6], 'ro')\n",
    "plt.show()"
   ]
  },
  {
   "cell_type": "code",
   "execution_count": 12,
   "id": "ad378e88-979f-4617-a735-f395cb487b0f",
   "metadata": {},
   "outputs": [
    {
     "data": {
      "text/html": [
       "<div>\n",
       "<style scoped>\n",
       "    .dataframe tbody tr th:only-of-type {\n",
       "        vertical-align: middle;\n",
       "    }\n",
       "\n",
       "    .dataframe tbody tr th {\n",
       "        vertical-align: top;\n",
       "    }\n",
       "\n",
       "    .dataframe thead th {\n",
       "        text-align: right;\n",
       "    }\n",
       "</style>\n",
       "<table border=\"1\" class=\"dataframe\">\n",
       "  <thead>\n",
       "    <tr style=\"text-align: right;\">\n",
       "      <th></th>\n",
       "      <th>serie1</th>\n",
       "      <th>serie2</th>\n",
       "      <th>serie3</th>\n",
       "    </tr>\n",
       "  </thead>\n",
       "  <tbody>\n",
       "    <tr>\n",
       "      <th>0</th>\n",
       "      <td>1</td>\n",
       "      <td>2</td>\n",
       "      <td>4</td>\n",
       "    </tr>\n",
       "    <tr>\n",
       "      <th>1</th>\n",
       "      <td>3</td>\n",
       "      <td>4</td>\n",
       "      <td>2</td>\n",
       "    </tr>\n",
       "    <tr>\n",
       "      <th>2</th>\n",
       "      <td>4</td>\n",
       "      <td>5</td>\n",
       "      <td>3</td>\n",
       "    </tr>\n",
       "    <tr>\n",
       "      <th>3</th>\n",
       "      <td>3</td>\n",
       "      <td>2</td>\n",
       "      <td>1</td>\n",
       "    </tr>\n",
       "    <tr>\n",
       "      <th>4</th>\n",
       "      <td>5</td>\n",
       "      <td>4</td>\n",
       "      <td>3</td>\n",
       "    </tr>\n",
       "  </tbody>\n",
       "</table>\n",
       "</div>"
      ],
      "text/plain": [
       "   serie1  serie2  serie3\n",
       "0       1       2       4\n",
       "1       3       4       2\n",
       "2       4       5       3\n",
       "3       3       2       1\n",
       "4       5       4       3"
      ]
     },
     "execution_count": 12,
     "metadata": {},
     "output_type": "execute_result"
    }
   ],
   "source": [
    "import pandas as pd\n",
    "data = {'serie1': [1,3,4,3,5],\n",
    "       'serie2': [2,4,5,2,4],\n",
    "       'serie3':[4,2,3,1,3]}\n",
    "df = pd.DataFrame(data)\n",
    "df"
   ]
  },
  {
   "cell_type": "code",
   "execution_count": 13,
   "id": "a5490f5a-aee8-42dc-bf41-86959f895166",
   "metadata": {},
   "outputs": [
    {
     "data": {
      "image/png": "[encoded data removed]",
      "text/plain": [
       "<Figure size 432x288 with 1 Axes>"
      ]
     },
     "metadata": {
      "needs_background": "light"
     },
     "output_type": "display_data"
    }
   ],
   "source": [
    "df.plot(kind='bar')\n",
    "plt.show()"
   ]
  },
  {
   "cell_type": "markdown",
   "id": "656d9829-2742-4f19-94e8-62aa7cccd528",
   "metadata": {},
   "source": [
    "# Statistics"
   ]
  },
  {
   "cell_type": "code",
   "execution_count": 1,
   "id": "38b67939-78c3-430b-98c3-7dfcd960a5c8",
   "metadata": {},
   "outputs": [],
   "source": [
    "import statistics"
   ]
  },
  {
   "cell_type": "code",
   "execution_count": 2,
   "id": "928280b8-f3a6-4fd4-bd71-43cf4e074ecd",
   "metadata": {},
   "outputs": [
    {
     "data": {
      "text/plain": [
       "4.428571428571429"
      ]
     },
     "execution_count": 2,
     "metadata": {},
     "output_type": "execute_result"
    }
   ],
   "source": [
    "statistics. mean([1,3,5,7,9,2,4])"
   ]
  },
  {
   "cell_type": "code",
   "execution_count": 3,
   "id": "80720729-821e-4bf1-a967-eafa81fac650",
   "metadata": {},
   "outputs": [
    {
     "data": {
      "text/plain": [
       "4"
      ]
     },
     "execution_count": 3,
     "metadata": {},
     "output_type": "execute_result"
    }
   ],
   "source": [
    "statistics.median([1,3,5,7,9,2,4])"
   ]
  },
  {
   "cell_type": "code",
   "execution_count": 4,
   "id": "f662244f-d59f-4a92-a238-6ee76741b1f1",
   "metadata": {},
   "outputs": [
    {
     "data": {
      "text/plain": [
       "5"
      ]
     },
     "execution_count": 4,
     "metadata": {},
     "output_type": "execute_result"
    }
   ],
   "source": [
    "statistics.mode([1,3,5,5,7,9,2,4])"
   ]
  },
  {
   "cell_type": "code",
   "execution_count": 14,
   "id": "730935d7-ce2e-4769-8942-05891bf34ad3",
   "metadata": {},
   "outputs": [
    {
     "data": {
      "text/plain": [
       "2.819996622760558"
      ]
     },
     "execution_count": 14,
     "metadata": {},
     "output_type": "execute_result"
    }
   ],
   "source": [
    "statistics.stdev([1,3,5,7,9,2,4])"
   ]
  },
  {
   "cell_type": "code",
   "execution_count": null,
   "id": "fb843f2b-3a60-47cf-a02e-9f3b610cef60",
   "metadata": {},
   "outputs": [],
   "source": []
  }
 ],
 "metadata": {
  "kernelspec": {
   "display_name": "Python 3 (ipykernel)",
   "language": "python",
   "name": "python3"
  },
  "language_info": {
   "codemirror_mode": {
    "name": "ipython",
    "version": 3
   },
   "file_extension": ".py",
   "mimetype": "text/x-python",
   "name": "python",
   "nbconvert_exporter": "python",
   "pygments_lexer": "ipython3",
   "version": "3.9.7"
  }
 },
 "nbformat": 4,
 "nbformat_minor": 5
}
