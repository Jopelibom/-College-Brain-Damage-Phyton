{
 "cells": [
  {
   "cell_type": "code",
   "execution_count": null,
   "id": "3700c71d-ccf5-453e-b511-497b8d2225f7",
   "metadata": {},
   "outputs": [],
   "source": [
    "#1. Programa que leia um vetor A com 10 números inteiros, calcule e mostre a soma dos elementos do vetor.\n",
    "\n",
    "a = []\n",
    "soma = 0\n",
    "for i in range(10):\n",
    "    aux = int(input('Digite um número: '))\n",
    "    a.append(aux)\n",
    "\n",
    "for i in range(10):\n",
    "    soma = soma + a[i]\n",
    "\n",
    "print('A soma dos valores é: ',soma)"
   ]
  },
  {
   "cell_type": "code",
   "execution_count": null,
   "id": "ed85e1c3-f9a5-49e9-a13d-993b0baa92c2",
   "metadata": {},
   "outputs": [],
   "source": [
    "#2. Programa que leia um vetor A com 10 números inteiros, calcule e mostre a soma dos quadrados dos elementos do vetor.\n",
    "\n",
    "\n",
    "a = []\n",
    "soma = 0\n",
    "for i in range(10):\n",
    "    aux = int(input('Digite um número: '))\n",
    "    a.append(aux)\n",
    "\n",
    "for i in range(10):\n",
    "    soma = soma+ 2 * a[i] \n",
    "\n",
    "print('A soma dos quadrados dos valores é: ',soma)"
   ]
  },
  {
   "cell_type": "code",
   "execution_count": null,
   "id": "5a7ab8a8-c2d1-4155-9349-4f259a06af53",
   "metadata": {},
   "outputs": [],
   "source": [
    "#3. Faça um Programa que leia dois vetores com 10 elementos cada. Gere um terceiro vetor de 20 elementos, cujos valores deverão ser compostos pelos elementos intercalados dos dois outros vetores.\n",
    "a = [1,3,5,7,9,11,13,15,17,19]\n",
    "b = [2,4,6,8,10,12,14,16,18,20]\n",
    "c = []\n",
    "\n",
    "for i in range(10):\n",
    "    if a[i]%2 != 0:\n",
    "       c.append(a[i])\n",
    "    if b[i]%2 == 0:\n",
    "        c.append(b[i])\n",
    "\n",
    "print(c) "
   ]
  },
  {
   "cell_type": "code",
   "execution_count": null,
   "id": "b5536e05-ddde-4c94-858b-b67204642298",
   "metadata": {},
   "outputs": [],
   "source": [
    "#4. Faça um Programa que leia dois vetores com 10 elementos cada. Calcule e mostre a quanCdade de valores acima de 30;\n",
    "\n",
    "a = []\n",
    "b = []\n",
    "\n",
    "for i in range(3):\n",
    "    aux = int(input('Digite um número: '))\n",
    "    a.append(aux)\n",
    "\n",
    "for i in range(3):\n",
    "    aux = int(input('Digite um número: '))\n",
    "    b.append(aux)\n",
    "\n",
    "contador = 0\n",
    "\n",
    "for i in range(3):\n",
    "    if a[i] > 30:\n",
    "        contador += 1\n",
    "    if b[i] > 30:\n",
    "        contador += 1\n",
    "\n",
    "print('A quantidade de números maiores que 30 são: ',contador)\n",
    "print('Os elementos do primeiro vetor são: ',a)\n",
    "print('Os elementos do segundo vetor são: ',b)"
   ]
  },
  {
   "cell_type": "code",
   "execution_count": null,
   "id": "c00d0e97-fac8-41c4-ba77-15c8390ddf91",
   "metadata": {},
   "outputs": [],
   "source": [
    "#3.Nome na vertical. Faça um programa que solicite o nome do usuário e imprima-o na vertical.\n",
    "\n",
    "texto = input(\"Digite um nome: \")\n",
    "qtd = len(texto)\n",
    "\n",
    "for i in range(qtd):\n",
    "    print(texto[i])"
   ]
  },
  {
   "cell_type": "code",
   "execution_count": null,
   "id": "e3e7e014-1abd-4d0c-9f07-202455255184",
   "metadata": {},
   "outputs": [],
   "source": [
    "#5.Nome na vertical em escada invertida. Altere o programa anterior de modo que a escada seja invertida."
   ]
  },
  {
   "cell_type": "code",
   "execution_count": null,
   "id": "3a9d53ee-d496-4428-bb2c-f23166019b02",
   "metadata": {},
   "outputs": [],
   "source": [
    "#6.Faça um Programa que peça as quatro notas de 10 alunos, calcule e armazene num vetor a média de cada aluno, imprima o número de alunos com média maior ou igual a 7.0."
   ]
  }
 ],
 "metadata": {
  "kernelspec": {
   "display_name": "Python 3 (ipykernel)",
   "language": "python",
   "name": "python3"
  },
  "language_info": {
   "codemirror_mode": {
    "name": "ipython",
    "version": 3
   },
   "file_extension": ".py",
   "mimetype": "text/x-python",
   "name": "python",
   "nbconvert_exporter": "python",
   "pygments_lexer": "ipython3",
   "version": "3.9.7"
  }
 },
 "nbformat": 4,
 "nbformat_minor": 5
}
