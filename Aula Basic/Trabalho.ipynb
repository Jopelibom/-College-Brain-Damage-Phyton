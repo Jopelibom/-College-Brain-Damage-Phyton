{
 "cells": [
  {
   "cell_type": "code",
   "execution_count": 3,
   "id": "540ca8bd-bf57-4157-804c-31a29758a525",
   "metadata": {},
   "outputs": [],
   "source": [
    "# Faça um programa que armazene o gabarito de 5 questoes em uma lista\n",
    "# Depois pergunte ao usuário as cinco respostas e verifique quantos\n",
    "# pontos ele fez. Se for maior que 3 indique que foi aprovado\n",
    "\n"
   ]
  },
  {
   "cell_type": "code",
   "execution_count": 2,
   "id": "668c9423-c2bc-41b2-a595-506766d8b6a5",
   "metadata": {},
   "outputs": [],
   "source": [
    "#Faça um programa que calcule o maior e menor valor de uma\n",
    "#vetor/lista. Não usar a função própia do Python\n",
    "\n"
   ]
  },
  {
   "cell_type": "code",
   "execution_count": 4,
   "id": "0f02c8ca-d373-45e0-800d-9fde05a0f210",
   "metadata": {},
   "outputs": [],
   "source": [
    "#Faça um programa com uma função chamada somaImposto. \n",
    "#A função possui dois parâmetros formais: taxaImposto, \n",
    "#que é a quantia de imposto sobre vendas expressa em porcentagem \n",
    "#e custo, que é o custo de um item antes do imposto. A função “altera” \n",
    "#o valor de custo para incluir o imposto sobre vendas. \n",
    "\n"
   ]
  },
  {
   "cell_type": "code",
   "execution_count": null,
   "id": "062cd68f-9e60-4717-b9c3-3070f4a08d84",
   "metadata": {},
   "outputs": [],
   "source": []
  }
 ],
 "metadata": {
  "kernelspec": {
   "display_name": "Python 3 (ipykernel)",
   "language": "python",
   "name": "python3"
  },
  "language_info": {
   "codemirror_mode": {
    "name": "ipython",
    "version": 3
   },
   "file_extension": ".py",
   "mimetype": "text/x-python",
   "name": "python",
   "nbconvert_exporter": "python",
   "pygments_lexer": "ipython3",
   "version": "3.9.7"
  }
 },
 "nbformat": 4,
 "nbformat_minor": 5
}
